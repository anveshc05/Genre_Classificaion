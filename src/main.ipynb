{
 "cells": [
  {
   "cell_type": "markdown",
   "metadata": {},
   "source": [
    "### Anvesh Chaturvedi, 20161094\n",
    "### Rohit Kr. Agarwal, 20161011"
   ]
  },
  {
   "cell_type": "code",
   "execution_count": 2,
   "metadata": {},
   "outputs": [],
   "source": [
    "import warnings\n",
    "warnings.filterwarnings('ignore')\n",
    "import librosa\n",
    "import sklearn\n",
    "import matplotlib.pyplot as plt\n",
    "import librosa.display\n",
    "import numpy as np\n",
    "from tqdm import tqdm\n",
    "import IPython.display as ipd\n",
    "from six.moves import cPickle as pickle\n",
    "import shutil\n",
    "import os"
   ]
  },
  {
   "cell_type": "markdown",
   "metadata": {},
   "source": [
    "### Zero Crossing Rate"
   ]
  },
  {
   "cell_type": "code",
   "execution_count": 5,
   "metadata": {},
   "outputs": [],
   "source": [
    "def zero_crossing(x, sr):\n",
    "    zero_crossings = librosa.zero_crossings(x, pad=False)\n",
    "    return zero_crossings"
   ]
  },
  {
   "cell_type": "markdown",
   "metadata": {},
   "source": [
    "### Spectral Centroid"
   ]
  },
  {
   "cell_type": "code",
   "execution_count": 6,
   "metadata": {},
   "outputs": [],
   "source": [
    "#spectral centroid -- centre of mass -- weighted mean of the frequencies present in the sound\n",
    "def spectral_centroid(x, sr):\n",
    "    spectral_centroids = librosa.feature.spectral_centroid(x, sr=sr)[0]\n",
    "    return spectral_centroids;\n"
   ]
  },
  {
   "cell_type": "markdown",
   "metadata": {},
   "source": [
    "### Spectral Rolloff"
   ]
  },
  {
   "cell_type": "code",
   "execution_count": 8,
   "metadata": {},
   "outputs": [],
   "source": [
    "def spectral_rolloff(x, sr):\n",
    "    spectral_rolloff = librosa.feature.spectral_rolloff(x, sr=sr)[0]\n",
    "    return spectral_rolloff\n",
    "# librosa.display.waveplot(x, sr=sr, alpha=0.4)\n",
    "# plt.plot(t, normalize(spectral_rolloff), color='r')"
   ]
  },
  {
   "cell_type": "markdown",
   "metadata": {},
   "source": [
    "### MFCC"
   ]
  },
  {
   "cell_type": "code",
   "execution_count": 15,
   "metadata": {},
   "outputs": [],
   "source": [
    "def mfcc(x, sr, num):\n",
    "    mfccs = librosa.feature.mfcc(x, n_mfcc=num, sr=sr)\n",
    "    return mfccs\n",
    "# librosa.display.specshow(mfccs, sr=sr, x_axis='time')"
   ]
  },
  {
   "cell_type": "code",
   "execution_count": 10,
   "metadata": {},
   "outputs": [],
   "source": [
    "def feature_extractor(audio_path):\n",
    "    x , sr = librosa.load(audio_path, sr=44100)\n",
    "    return (np.sum(zero_crossing(x, sr)), spectral_centroid(x, sr), mfcc(x, sr, 5), spectral_rolloff(x, sr))"
   ]
  },
  {
   "cell_type": "code",
   "execution_count": 12,
   "metadata": {},
   "outputs": [
    {
     "name": "stdout",
     "output_type": "stream",
     "text": [
      "627\n"
     ]
    }
   ],
   "source": [
    "data_path = 'IndianSongsDataset/data'\n",
    "cnt=0\n",
    "paths = list()\n",
    "for language in sorted(os.listdir(data_path)):\n",
    "    curr_path = os.path.join(data_path, language)\n",
    "    for _dir in sorted(os.listdir(curr_path)):\n",
    "        if(_dir == 'normal'): continue\n",
    "        new_path = os.path.join(curr_path, _dir)\n",
    "        for song in sorted(os.listdir(new_path)):\n",
    "            newer_path = os.path.join(new_path, song)\n",
    "            paths.append(newer_path)\n",
    "print(len(paths))"
   ]
  },
  {
   "cell_type": "code",
   "execution_count": 16,
   "metadata": {},
   "outputs": [
    {
     "name": "stdout",
     "output_type": "stream",
     "text": [
      "626\r"
     ]
    }
   ],
   "source": [
    "features = {'mfcc':[],'sc':[],'sroll':[],'zc':[]}\n",
    "for i, path in enumerate(paths):\n",
    "    print(i,end='\\r')\n",
    "    f1, f2, f3, f4 = feature_extractor(path)\n",
    "    features['zc'].append(f1)\n",
    "    features['sc'].append(f2)\n",
    "    features['mfcc'].append(f3)\n",
    "    features['sroll'].append(f4)\n",
    "for i in range(len(features['zc'])):\n",
    "    features['zc'] = np.array(features['zc'])\n",
    "    features['zc'] = np.reshape(features['zc'], (-1, 1))\n"
   ]
  },
  {
   "cell_type": "code",
   "execution_count": 18,
   "metadata": {},
   "outputs": [],
   "source": [
    "feat_vec = list()\n",
    "for i in range(len(paths)):\n",
    "    feat_vec.append(list())\n",
    "for feat_typ in features:\n",
    "    if(feat_typ == 'paths'): continue\n",
    "    for idx, song_feat in enumerate(features[feat_typ]):\n",
    "        if(feat_typ == 'mfcc'):\n",
    "            means = np.mean(np.array(song_feat), axis=1)\n",
    "            stds = np.std(np.array(song_feat), axis=1)\n",
    "            feat_vec[idx] = feat_vec[idx] + list(means)\n",
    "            feat_vec[idx] = feat_vec[idx] + list(stds)\n",
    "        else:\n",
    "            feat_vec[idx].append(np.mean(np.array(song_feat)))\n",
    "            feat_vec[idx].append(np.std(np.array(song_feat)))\n"
   ]
  },
  {
   "cell_type": "code",
   "execution_count": 42,
   "metadata": {},
   "outputs": [],
   "source": [
    "features['combined'] = feat_vec\n",
    "features['paths'] = paths"
   ]
  },
  {
   "cell_type": "code",
   "execution_count": 49,
   "metadata": {},
   "outputs": [],
   "source": [
    "labels_d = {'mfcc':{},'sc':{},'sroll':{},'zc':{}, 'combined':{}}\n",
    "for feat_type in features:\n",
    "    if(feat_type == 'paths'): continue\n",
    "    feat = np.array(features[feat_type])\n",
    "    if(feat_type == 'mfcc'):\n",
    "        mfcc_feat = list()\n",
    "        for i in range(len(feat)):\n",
    "            mfcc_feat.append(feat[i].flatten())\n",
    "        feat = np.array(mfcc_feat)\n",
    "    for num_clusters in range(3,6):\n",
    "        clf = sklearn.cluster.KMeans(n_clusters=num_clusters)\n",
    "        kmeans = clf.fit(feat)\n",
    "        labels = kmeans.labels_\n",
    "        labels_d[feat_type][num_clusters] = labels"
   ]
  },
  {
   "cell_type": "code",
   "execution_count": 51,
   "metadata": {},
   "outputs": [],
   "source": [
    "def save_dict(di_, filename_):\n",
    "    with open(filename_, 'wb') as f:\n",
    "        pickle.dump(di_, f)\n",
    "def load_dict(filename_):\n",
    "    with open(filename_, 'rb') as f:\n",
    "        ret_di = pickle.load(f)\n",
    "    return ret_di\n",
    "\n"
   ]
  },
  {
   "cell_type": "code",
   "execution_count": 52,
   "metadata": {},
   "outputs": [],
   "source": [
    "## Saving Extracted Features\n",
    "save_dict(features, 'feat.pkl')\n",
    "\n",
    "## Saving Labels obtained using clustering\n",
    "save_dict(labels_d, 'labels.pkl')"
   ]
  },
  {
   "cell_type": "code",
   "execution_count": 52,
   "metadata": {},
   "outputs": [],
   "source": [
    "loaded_features = load_dict('./feat.pkl')\n",
    "loaded_labels = load_dict('./labels.pkl')"
   ]
  },
  {
   "cell_type": "code",
   "execution_count": 55,
   "metadata": {},
   "outputs": [],
   "source": [
    "def play_audio(audio_path):\n",
    "    ipd.Audio(audio_path)\n",
    "    \n",
    "def get_audio_cluster(labels_dict, num_clust = 4, curr_cluster_num = 2, feature_type = 'sc'):\n",
    "    cl_paths = list()\n",
    "    curr_labels = labels_dict[feature_type][num_clust]\n",
    "    for i in range(len(curr_labels)):\n",
    "        if(curr_labels[i] == curr_cluster_num):\n",
    "            cl_paths.append(features['paths'][i])\n",
    "    return cl_paths"
   ]
  },
  {
   "cell_type": "code",
   "execution_count": 59,
   "metadata": {},
   "outputs": [],
   "source": [
    "num_cl = 5\n",
    "cl_paths = list()\n",
    "\n",
    "for i in range(num_cl):\n",
    "    cl_paths.append(get_audio_cluster(labels_d, num_clust = num_cl, curr_cluster_num = i, feature_type='combined'))\n",
    "\n",
    "# for feat_typ in features:\n",
    "#     if(feat_typ == 'paths'): continue\n",
    "#     print(feat_typ)\n",
    "#     for num_clust in range(3,6):\n",
    "#         print(\"=\"*10)\n",
    "#         print(str(num_clust) + \" Clusters\")\n",
    "#         cluster_list = labels_d[feat_typ][num_clust]\n",
    "#         for i in range(num_clust):\n",
    "#             print(np.sum(cluster_list==i))\n"
   ]
  },
  {
   "cell_type": "code",
   "execution_count": 1,
   "metadata": {
    "scrolled": false
   },
   "outputs": [],
   "source": [
    "import os\n",
    "from IPython.display import display,Audio,HTML\n",
    "playlist_html=\"\"\n",
    "audio_html=\"\"\n",
    "music_dir = u'Music'\n",
    "count=0\n",
    "\n",
    "for file in cl_paths[4]:\n",
    "    if count==0:\n",
    "        playlist_html = u'''<li class=\"active\"><a href=\"{0}\">{1}</a>\n",
    "            </li>\\n'''.format(file, file)\n",
    "        audio_html = u'''<audio id=\"audio\" preload=\"auto\" tabindex=\"0\" controls=\"\" type=\"audio/mpeg\">\n",
    "            <source type=\"audio/mp3\" src=\"{}\">Sorry, your browser does not support HTML5 audio.\n",
    "            </audio>'''.format(file)\n",
    "    else:\n",
    "        playlist_html +=u'''<li><a href=\"{0}\">{1}</a></li>\\n'''.format(file, file)\n",
    "    count += 1\n",
    "\n",
    "playlist_html = audio_html + u'''\\n<ol id=\"playlist\">\\n{}</ol>'''.format(playlist_html)\n",
    "#print playlist_html\n",
    "\n",
    "\n",
    "playlist_css = \"\"\"\n",
    "<style>\n",
    "#playlist .active a{color:#CC0000;text-decoration:none;}\n",
    "#playlist li a:hover{text-decoration:none;}\n",
    "</style>\n",
    "\"\"\"\n",
    "\n",
    "playlist_js = \"\"\"\n",
    "<script>\n",
    "var audio;\n",
    "var playlist;\n",
    "var tracks;\n",
    "var current;\n",
    "\n",
    "init();\n",
    "function init(){\n",
    "    current = 0;\n",
    "    audio = $('audio');\n",
    "    playlist = $('#playlist');\n",
    "    tracks = playlist.find('li a');\n",
    "    len = tracks.length - 1;\n",
    "    audio[0].volume = .10;\n",
    "    playlist.find('a').click(function(e){\n",
    "        e.preventDefault();\n",
    "        link = $(this);\n",
    "        current = link.parent().index();\n",
    "        run(link, audio[0]);\n",
    "    });\n",
    "    audio[0].addEventListener('ended',function(e){\n",
    "        current++;\n",
    "        if(current == len){\n",
    "            current = 0;\n",
    "            link = playlist.find('a')[0];\n",
    "        }else{\n",
    "            link = playlist.find('a')[current];    \n",
    "        }\n",
    "        run($(link),audio[0]);\n",
    "    });\n",
    "}\n",
    "function run(link, player){\n",
    "        player.src = link.attr('href');\n",
    "        par = link.parent();\n",
    "        par.addClass('active').siblings().removeClass('active');\n",
    "        audio[0].load();\n",
    "        audio[0].play();\n",
    "}\n",
    "</script>\n",
    "\"\"\"\n",
    "display(HTML(playlist_html))\n",
    "display(HTML(playlist_css))\n",
    "display(HTML(playlist_js))"
   ]
  },
  {
   "cell_type": "code",
   "execution_count": 65,
   "metadata": {},
   "outputs": [],
   "source": [
    "def save_data(paths_list):\n",
    "    for i in range(len(paths_list)):\n",
    "        for file_path in paths_list[i]:\n",
    "            original = file_path\n",
    "            target = 'results/' + str(i) + '/' + file_path.split('/')[-3] + '_' + file_path.split('/')[-1]\n",
    "            shutil.copyfile(original, target)\n",
    "save_data(cl_paths)"
   ]
  }
 ],
 "metadata": {
  "kernelspec": {
   "display_name": "Python 3",
   "language": "python",
   "name": "python3"
  },
  "language_info": {
   "codemirror_mode": {
    "name": "ipython",
    "version": 3
   },
   "file_extension": ".py",
   "mimetype": "text/x-python",
   "name": "python",
   "nbconvert_exporter": "python",
   "pygments_lexer": "ipython3",
   "version": "3.5.2"
  }
 },
 "nbformat": 4,
 "nbformat_minor": 2
}
